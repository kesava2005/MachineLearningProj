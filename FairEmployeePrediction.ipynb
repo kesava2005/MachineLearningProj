{
 "cells": [
  {
   "cell_type": "code",
   "execution_count": null,
   "id": "46617475-0103-4795-b735-8ffeae682e27",
   "metadata": {},
   "outputs": [],
   "source": [
    "import pandas as pd\n",
    "import numpy as np\n",
    "import matplotlib.pyplot as plt\n",
    "import seaborn as sns\n",
    "import streamlit as st\n",
    "from fairlearn.reductions import ExponentiatedGradient, DemographicParity, EqualOpportunity, BoundedGroupLoss\n",
    "from lightgbm import LGBMClassifier\n",
    "from sklearn.model_selection import train_test_split, cross_val_score, GridSearchCV\n",
    "from sklearn.metrics import accuracy_score, classification_report, confusion_matrix, roc_curve, auc"
   ]
  },
  {
   "cell_type": "code",
   "execution_count": null,
   "id": "a2757c96-7ffa-44b2-9e58-32f3968d4e06",
   "metadata": {},
   "outputs": [],
   "source": [
    "# Load dataset (replace with actual dataset)\n",
    "data = pd.read_csv('employee_performance.csv')"
   ]
  },
  {
   "cell_type": "code",
   "execution_count": null,
   "id": "16999e9b-239f-43e4-bb0a-4bef15f7d819",
   "metadata": {},
   "outputs": [],
   "source": [
    "# Preprocessing\n",
    "data = pd.get_dummies(data, drop_first=True)  # Convert categorical features\n",
    "X = data.drop(columns=['Performance'])\n",
    "y = data['Performance']\n",
    "X_train, X_test, y_train, y_test = train_test_split(X, y, test_size=0.2, random_state=42)"
   ]
  },
  {
   "cell_type": "code",
   "execution_count": null,
   "id": "fc7f5279-0229-4550-8227-acee1f76372c",
   "metadata": {},
   "outputs": [],
   "source": [
    "# Hyperparameter tuning using GridSearchCV\n",
    "param_grid = {'learning_rate': [0.01, 0.1, 0.2], 'n_estimators': [50, 100, 200]}\n",
    "grid = GridSearchCV(LGBMClassifier(), param_grid, cv=10)\n",
    "grid.fit(X_train, y_train)"
   ]
  },
  {
   "cell_type": "code",
   "execution_count": null,
   "id": "90d5f572-d226-4cac-9b7f-553c2b6eba95",
   "metadata": {},
   "outputs": [],
   "source": [
    "# Best model\n",
    "base_model = grid.best_estimator_"
   ]
  },
  {
   "cell_type": "code",
   "execution_count": null,
   "id": "3ae22111-d0ef-4e3c-88e2-439eae81109d",
   "metadata": {},
   "outputs": [],
   "source": [
    "# Apply fairness constraints\n",
    "constraints = [DemographicParity(), EqualOpportunity(), BoundedGroupLoss()]\n",
    "fair_models = {constraint.__class__.__name__: ExponentiatedGradient(base_model, constraints=constraint) for constraint in constraints}\n",
    "\n",
    "for name, model in fair_models.items():\n",
    "    model.fit(X_train, y_train, sensitive_features=data['Gender'])"
   ]
  },
  {
   "cell_type": "code",
   "execution_count": null,
   "id": "5ff6cb45-03e3-46a2-9bf3-e1dfcf266e8d",
   "metadata": {},
   "outputs": [],
   "source": [
    "# Predictions and evaluation\n",
    "st.title(\"Fair Employee Performance Prediction Dashboard\")\n",
    "st.write(\"### Model Performance with Fairness Constraints\")\n",
    "for name, model in fair_models.items():\n",
    "    y_pred = model.predict(X_test)\n",
    "    acc = accuracy_score(y_test, y_pred)\n",
    "    report = classification_report(y_test, y_pred)\n",
    "    st.write(f\"#### {name}\")\n",
    "    st.write(f\"Accuracy: {acc * 100:.2f}%\")\n",
    "    st.text(report)\n",
    "\n",
    "    # Confusion Matrix\n",
    "    fig, ax = plt.subplots()\n",
    "    sns.heatmap(confusion_matrix(y_test, y_pred), annot=True, fmt='d', cmap='Blues', ax=ax)\n",
    "    ax.set_title(f'{name} Confusion Matrix')\n",
    "    ax.set_xlabel('Predicted')\n",
    "    ax.set_ylabel('Actual')\n",
    "    st.pyplot(fig)\n",
    "    \n",
    "    # ROC-AUC Curve\n",
    "    y_scores = base_model.predict_proba(X_test)[:, 1]\n",
    "    fpr, tpr, _ = roc_curve(y_test, y_scores)\n",
    "    fig, ax = plt.subplots()\n",
    "    ax.plot(fpr, tpr, label=f'AUC: {auc(fpr, tpr):.2f}')\n",
    "    ax.plot([0, 1], [0, 1], 'k--')\n",
    "    ax.set_xlabel('False Positive Rate')\n",
    "    ax.set_ylabel('True Positive Rate')\n",
    "    ax.set_title(f'{name} ROC-AUC Curve')\n",
    "    ax.legend()\n",
    "    st.pyplot(fig)"
   ]
  },
  {
   "cell_type": "code",
   "execution_count": null,
   "id": "17758164-f0c7-4b6f-b5b4-2cdfaefe1f19",
   "metadata": {},
   "outputs": [],
   "source": [
    "# Function to predict performance with fairness\n",
    "def predict_performance(features, gender, constraint_name):\n",
    "    input_data = np.array(features).reshape(1, -1)\n",
    "    prediction = fair_models[constraint_name].predict(input_data, sensitive_features=[gender])\n",
    "    return \"High Performance\" if prediction[0] == 1 else \"Low Performance\""
   ]
  }
 ],
 "metadata": {
  "kernelspec": {
   "display_name": "Python 3 (ipykernel)",
   "language": "python",
   "name": "python3"
  },
  "language_info": {
   "codemirror_mode": {
    "name": "ipython",
    "version": 3
   },
   "file_extension": ".py",
   "mimetype": "text/x-python",
   "name": "python",
   "nbconvert_exporter": "python",
   "pygments_lexer": "ipython3",
   "version": "3.11.9"
  }
 },
 "nbformat": 4,
 "nbformat_minor": 5
}
