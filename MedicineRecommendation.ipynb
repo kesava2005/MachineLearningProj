{
 "cells": [
  {
   "cell_type": "code",
   "execution_count": null,
   "id": "b1a16ec6-8164-4b7a-88d8-65be90d091b9",
   "metadata": {},
   "outputs": [],
   "source": [
    "import pandas as pd\n",
    "import numpy as np\n",
    "import matplotlib.pyplot as plt\n",
    "import seaborn as sns\n",
    "from sklearn.model_selection import train_test_split, cross_val_score, GridSearchCV\n",
    "from sklearn.preprocessing import LabelEncoder, StandardScaler\n",
    "from sklearn.svm import SVC\n",
    "from sklearn.neighbors import KNeighborsClassifier\n",
    "from sklearn.ensemble import RandomForestClassifier\n",
    "from sklearn.metrics import accuracy_score, classification_report, confusion_matrix, roc_curve, auc"
   ]
  },
  {
   "cell_type": "code",
   "execution_count": null,
   "id": "f53a6add-890f-4eb1-b9d8-4b4e346fbd07",
   "metadata": {},
   "outputs": [],
   "source": [
    "# Load dataset (replace with actual dataset)\n",
    "data = pd.read_csv('medical_data.csv')  # Example dataset file"
   ]
  },
  {
   "cell_type": "code",
   "execution_count": null,
   "id": "1fb43e8f-816e-4d2b-98f7-0af8d90d44b3",
   "metadata": {},
   "outputs": [],
   "source": [
    "# Preprocessing\n",
    "le = LabelEncoder()\n",
    "data['Disease'] = le.fit_transform(data['Disease'])\n",
    "X = data.drop(columns=['Disease'])\n",
    "y = data['Disease']\n",
    "scaler = StandardScaler()\n",
    "X_scaled = scaler.fit_transform(X)\n",
    "\n",
    "X_train, X_test, y_train, y_test = train_test_split(X_scaled, y, test_size=0.2, random_state=42)\n"
   ]
  },
  {
   "cell_type": "code",
   "execution_count": null,
   "id": "e5455010-d489-40c6-92ef-6eced476f9a7",
   "metadata": {},
   "outputs": [],
   "source": [
    "# Hyperparameter tuning using GridSearchCV\n",
    "param_grid_svm = {'C': [0.1, 1, 10], 'kernel': ['linear', 'rbf']}\n",
    "grid_svm = GridSearchCV(SVC(probability=True), param_grid_svm, cv=10)\n",
    "grid_svm.fit(X_train, y_train)\n",
    "\n",
    "param_grid_knn = {'n_neighbors': [3, 5, 7]}\n",
    "grid_knn = GridSearchCV(KNeighborsClassifier(), param_grid_knn, cv=10)\n",
    "grid_knn.fit(X_train, y_train)\n",
    "\n",
    "param_grid_rf = {'n_estimators': [50, 100, 150]}\n",
    "grid_rf = GridSearchCV(RandomForestClassifier(), param_grid_rf, cv=10)\n",
    "grid_rf.fit(X_train, y_train)"
   ]
  },
  {
   "cell_type": "code",
   "execution_count": null,
   "id": "acdeefce-df0e-4383-afdd-9d1121aafaae",
   "metadata": {},
   "outputs": [],
   "source": [
    "# Best models\n",
    "svm_model = grid_svm.best_estimator_\n",
    "knn_model = grid_knn.best_estimator_\n",
    "rf_model = grid_rf.best_estimator_"
   ]
  },
  {
   "cell_type": "code",
   "execution_count": null,
   "id": "80a338a1-771e-4d7a-adcd-14f5af6f3507",
   "metadata": {},
   "outputs": [],
   "source": [
    "# Predictions\n",
    "y_pred_svm = svm_model.predict(X_test)\n",
    "y_pred_knn = knn_model.predict(X_test)\n",
    "y_pred_rf = rf_model.predict(X_test)\n"
   ]
  },
  {
   "cell_type": "code",
   "execution_count": null,
   "id": "1c566c81-55aa-463c-901c-0d6e01382ac8",
   "metadata": {},
   "outputs": [],
   "source": [
    "# Classification reports\n",
    "print(\"SVM Classification Report:\\n\", classification_report(y_test, y_pred_svm))\n",
    "print(\"KNN Classification Report:\\n\", classification_report(y_test, y_pred_knn))\n",
    "print(\"Random Forest Classification Report:\\n\", classification_report(y_test, y_pred_rf))\n"
   ]
  },
  {
   "cell_type": "code",
   "execution_count": null,
   "id": "55bb83d9-00e4-4cab-bbc9-5eb539d2f839",
   "metadata": {},
   "outputs": [],
   "source": [
    "# Confusion matrices\n",
    "plt.figure(figsize=(12, 4))\n",
    "for i, (model, y_pred, title) in enumerate(zip([svm_model, knn_model, rf_model], \n",
    "                                               [y_pred_svm, y_pred_knn, y_pred_rf], \n",
    "                                               ['SVM', 'KNN', 'Random Forest'])):\n",
    "    plt.subplot(1, 3, i + 1)\n",
    "    sns.heatmap(confusion_matrix(y_test, y_pred), annot=True, fmt='d', cmap='Blues')\n",
    "    plt.title(f'{title} Confusion Matrix')\n",
    "    plt.xlabel('Predicted')\n",
    "    plt.ylabel('Actual')\n",
    "plt.tight_layout()\n",
    "plt.show()"
   ]
  },
  {
   "cell_type": "code",
   "execution_count": null,
   "id": "2203b0c5-10a9-4e1e-bc3a-584e01261fd8",
   "metadata": {},
   "outputs": [],
   "source": [
    "# ROC-AUC curves\n",
    "plt.figure(figsize=(8, 6))\n",
    "for model, label in zip([svm_model, knn_model, rf_model], ['SVM', 'KNN', 'Random Forest']):\n",
    "    y_scores = model.predict_proba(X_test)[:, 1]\n",
    "    fpr, tpr, _ = roc_curve(y_test, y_scores)\n",
    "    plt.plot(fpr, tpr, label=f'{label} (AUC: {auc(fpr, tpr):.2f})')\n",
    "plt.plot([0, 1], [0, 1], 'k--')\n",
    "plt.xlabel('False Positive Rate')\n",
    "plt.ylabel('True Positive Rate')\n",
    "plt.title('ROC-AUC Curve')\n",
    "plt.legend()\n",
    "plt.show()"
   ]
  },
  {
   "cell_type": "code",
   "execution_count": null,
   "id": "33ae41fb-d499-43d7-9c06-a6eb13388843",
   "metadata": {},
   "outputs": [],
   "source": [
    "# Function to recommend medicine\n",
    "def recommend_medicine(symptoms):\n",
    "    input_data = scaler.transform(np.array(symptoms).reshape(1, -1))\n",
    "    prediction = rf_model.predict(input_data)\n",
    "    disease = le.inverse_transform(prediction)[0]\n",
    "    return f\"Recommended treatment for {disease}\""
   ]
  }
 ],
 "metadata": {
  "kernelspec": {
   "display_name": "Python 3 (ipykernel)",
   "language": "python",
   "name": "python3"
  },
  "language_info": {
   "codemirror_mode": {
    "name": "ipython",
    "version": 3
   },
   "file_extension": ".py",
   "mimetype": "text/x-python",
   "name": "python",
   "nbconvert_exporter": "python",
   "pygments_lexer": "ipython3",
   "version": "3.11.9"
  }
 },
 "nbformat": 4,
 "nbformat_minor": 5
}
