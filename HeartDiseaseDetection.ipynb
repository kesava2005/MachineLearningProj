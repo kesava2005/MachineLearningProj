{
 "cells": [
  {
   "cell_type": "code",
   "execution_count": null,
   "id": "46617475-0103-4795-b735-8ffeae682e27",
   "metadata": {},
   "outputs": [],
   "source": [
    "import pandas as pd\n",
    "import numpy as np\n",
    "import matplotlib.pyplot as plt\n",
    "import seaborn as sns\n",
    "from sklearn.model_selection import train_test_split, cross_val_score, GridSearchCV\n",
    "from sklearn.preprocessing import StandardScaler\n",
    "from sklearn.ensemble import RandomForestClassifier\n",
    "from sklearn.metrics import accuracy_score, classification_report, confusion_matrix, roc_curve, auc, precision_score, recall_score"
   ]
  },
  {
   "cell_type": "code",
   "execution_count": null,
   "id": "e8ff8922-969d-4302-bd5f-663bace1007b",
   "metadata": {},
   "outputs": [],
   "source": [
    "# Load dataset (replace with actual dataset)\n",
    "data = pd.read_csv('heart_disease_data.csv')"
   ]
  },
  {
   "cell_type": "code",
   "execution_count": null,
   "id": "d7f59143-a3ef-4d5b-b469-e2e560ec3df5",
   "metadata": {},
   "outputs": [],
   "source": [
    "# Feature Engineering: Selecting 15 key health parameters\n",
    "selected_features = ['age', 'sex', 'cp', 'trestbps', 'chol', 'fbs', 'restecg', 'thalach', 'exang', 'oldpeak', 'slope', 'ca', 'thal', 'smoking', 'diabetes']\n",
    "X = data[selected_features]\n",
    "y = data['HeartDisease']"
   ]
  },
  {
   "cell_type": "code",
   "execution_count": null,
   "id": "b1ebce7c-ad45-49af-9baf-fb63eafff8a1",
   "metadata": {},
   "outputs": [],
   "source": [
    "# Standardization\n",
    "scaler = StandardScaler()\n",
    "X_scaled = scaler.fit_transform(X)\n",
    "\n",
    "X_train, X_test, y_train, y_test = train_test_split(X_scaled, y, test_size=0.2, random_state=42)"
   ]
  },
  {
   "cell_type": "code",
   "execution_count": null,
   "id": "643255ee-1044-42cf-859f-5d4b0757e3d2",
   "metadata": {},
   "outputs": [],
   "source": [
    "# Hyperparameter tuning using GridSearchCV\n",
    "param_grid = {'n_estimators': [50, 100, 150], 'max_depth': [5, 10, None]}\n",
    "grid = GridSearchCV(RandomForestClassifier(), param_grid, cv=10)\n",
    "grid.fit(X_train, y_train)"
   ]
  },
  {
   "cell_type": "code",
   "execution_count": null,
   "id": "4c3f0462-cfd4-457c-9104-d3b0ace78716",
   "metadata": {},
   "outputs": [],
   "source": [
    "# Best model\n",
    "rf_model = grid.best_estimator_\n"
   ]
  },
  {
   "cell_type": "code",
   "execution_count": null,
   "id": "401eb89a-6519-49b7-8e8f-7de047336625",
   "metadata": {},
   "outputs": [],
   "source": [
    "# Predictions\n",
    "y_pred = rf_model.predict(X_test)"
   ]
  },
  {
   "cell_type": "code",
   "execution_count": null,
   "id": "29cd13ed-176a-427e-b466-f8ad19ee1a41",
   "metadata": {},
   "outputs": [],
   "source": [
    "# Evaluation\n",
    "print(\"Classification Report:\\n\", classification_report(y_test, y_pred))\n",
    "print(f\"Accuracy: {accuracy_score(y_test, y_pred) * 100:.2f}%\")\n",
    "print(f\"Precision: {precision_score(y_test, y_pred) * 100:.2f}%\")\n",
    "print(f\"Recall: {recall_score(y_test, y_pred) * 100:.2f}%\")"
   ]
  },
  {
   "cell_type": "code",
   "execution_count": null,
   "id": "2208c7cd-e454-4bd4-b012-4028eb093676",
   "metadata": {},
   "outputs": [],
   "source": [
    "# Confusion Matrix\n",
    "plt.figure(figsize=(6, 4))\n",
    "sns.heatmap(confusion_matrix(y_test, y_pred), annot=True, fmt='d', cmap='Blues')\n",
    "plt.title('Confusion Matrix')\n",
    "plt.xlabel('Predicted')\n",
    "plt.ylabel('Actual')\n",
    "plt.show()"
   ]
  },
  {
   "cell_type": "code",
   "execution_count": null,
   "id": "74d45b81-244d-44c1-8435-bc1043f6f7c3",
   "metadata": {},
   "outputs": [],
   "source": [
    "# ROC-AUC Curve\n",
    "y_scores = rf_model.predict_proba(X_test)[:, 1]\n",
    "fpr, tpr, _ = roc_curve(y_test, y_scores)\n",
    "plt.figure(figsize=(8, 6))\n",
    "plt.plot(fpr, tpr, label=f'AUC: {auc(fpr, tpr):.2f}')\n",
    "plt.plot([0, 1], [0, 1], 'k--')\n",
    "plt.xlabel('False Positive Rate')\n",
    "plt.ylabel('True Positive Rate')\n",
    "plt.title('ROC-AUC Curve')\n",
    "plt.legend()\n",
    "plt.show()"
   ]
  },
  {
   "cell_type": "code",
   "execution_count": null,
   "id": "3fcb61ec-8e16-4506-b112-7eb6331300f5",
   "metadata": {},
   "outputs": [],
   "source": [
    "# Function to predict heart disease\n",
    "def predict_heart_disease(features):\n",
    "    input_data = scaler.transform(np.array(features).reshape(1, -1))\n",
    "    prediction = rf_model.predict(input_data)\n",
    "    return \"At Risk of Heart Disease\" if prediction[0] == 1 else \"Healthy\""
   ]
  }
 ],
 "metadata": {
  "kernelspec": {
   "display_name": "Python 3 (ipykernel)",
   "language": "python",
   "name": "python3"
  },
  "language_info": {
   "codemirror_mode": {
    "name": "ipython",
    "version": 3
   },
   "file_extension": ".py",
   "mimetype": "text/x-python",
   "name": "python",
   "nbconvert_exporter": "python",
   "pygments_lexer": "ipython3",
   "version": "3.11.9"
  }
 },
 "nbformat": 4,
 "nbformat_minor": 5
}
